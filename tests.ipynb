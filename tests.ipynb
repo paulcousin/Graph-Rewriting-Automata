{
 "cells": [
  {
   "cell_type": "code",
   "execution_count": 5,
   "metadata": {},
   "outputs": [],
   "source": [
    "import gra\n",
    "import tensorflow as tf"
   ]
  },
  {
   "cell_type": "code",
   "execution_count": 6,
   "metadata": {},
   "outputs": [],
   "source": [
    "graph = gra.Graph([ # adjacency matrix\n",
    "        [0, 1, 0, 0, 0, 0, 0, 0, 1, 1],\n",
    "        [1, 0, 1, 1, 0, 0, 0, 0, 0, 0],\n",
    "        [0, 1, 0, 1, 1, 0, 0, 0, 0, 0],\n",
    "        [0, 1, 1, 0, 0, 1, 0, 0, 0, 0],\n",
    "        [0, 0, 1, 0, 0, 1, 1, 0, 0, 0],\n",
    "        [0, 0, 0, 1, 1, 0, 0, 1, 0, 0],\n",
    "        [0, 0, 0, 0, 1, 0, 0, 1, 1, 0],\n",
    "        [0, 0, 0, 0, 0, 1, 1, 0, 0, 1],\n",
    "        [1, 0, 0, 0, 0, 0, 1, 0, 0, 1],\n",
    "        [1, 0, 0, 0, 0, 0, 0, 1, 1, 0]\n",
    "    ],[ # state vector\n",
    "        [1],\n",
    "        [0],\n",
    "        [0],\n",
    "        [0],\n",
    "        [0],\n",
    "        [1],\n",
    "        [1],\n",
    "        [0],\n",
    "        [1],\n",
    "        [1]\n",
    "    ])\n",
    "\n",
    "aM = graph.adjacency_matrix"
   ]
  },
  {
   "cell_type": "code",
   "execution_count": 31,
   "metadata": {},
   "outputs": [
    {
     "data": {
      "text/plain": [
       "<tensorflow.python.framework.sparse_tensor.SparseTensor at 0x7fa62d80ee20>"
      ]
     },
     "execution_count": 31,
     "metadata": {},
     "output_type": "execute_result"
    }
   ],
   "source": [
    "tf.sparse.add(tf.sparse.eye(graph.order(), dtype=tf.int32),tf.sparse.map_values(tf.multiply, aM, -1))"
   ]
  },
  {
   "cell_type": "code",
   "execution_count": 32,
   "metadata": {},
   "outputs": [
    {
     "data": {
      "text/plain": [
       "<tensorflow.python.framework.sparse_tensor.SparseTensor at 0x7fa62d810130>"
      ]
     },
     "execution_count": 32,
     "metadata": {},
     "output_type": "execute_result"
    }
   ],
   "source": [
    "tf.sparse.map_values(tf.multiply, aM, -1)"
   ]
  }
 ],
 "metadata": {
  "kernelspec": {
   "display_name": "Python 3.9.7 ('.venv': venv)",
   "language": "python",
   "name": "python3"
  },
  "language_info": {
   "codemirror_mode": {
    "name": "ipython",
    "version": 3
   },
   "file_extension": ".py",
   "mimetype": "text/x-python",
   "name": "python",
   "nbconvert_exporter": "python",
   "pygments_lexer": "ipython3",
   "version": "3.9.7"
  },
  "orig_nbformat": 4,
  "vscode": {
   "interpreter": {
    "hash": "4f024cd9f5c57439f3e6fa4daaabb10a816e87e26ad1ca77f07bda2365c16d62"
   }
  }
 },
 "nbformat": 4,
 "nbformat_minor": 2
}
