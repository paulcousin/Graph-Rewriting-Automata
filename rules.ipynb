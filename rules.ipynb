{
 "cells": [
  {
   "cell_type": "markdown",
   "metadata": {},
   "source": [
    "# Rules\n",
    "\n",
    "Here, we are going to focus graphs with the following properties:\n",
    "* binary: $s(v)\\in \\{0,1\\}$\n",
    "* d-regular: $\\#N(v)=d$ \n",
    "* simple: \n",
    "    * $w(e_{i,j})\\in \\{0,1\\}$\n",
    "    * $w(e_{i,i})=0$\n",
    "    * $w(e_{i,j})=w(e_{j,i})$\n",
    "\n",
    "The rules that will be considered must:\n",
    "* keep these properties invariant,\n",
    "* be local to a vertex and its neighborhood,\n",
    "* include only one type of topology altering operation called division.\n",
    "\n",
    "The **division** operation consists of replacing a vertex by a complete subgraph of order $d$.\n",
    "\n",
    "The state of a vertex being either dead or alive, and there being from 0 to $d$ alive vertices in its neighborhood, there are exactly $2(d+1)$ possible **local configurations** $c(v)$. These configurations can be ordered in the following way:\n",
    "\n",
    "$$c(v)=(d+1)\\times s(v)+\\sum_{v_i\\in N(v)} s(v_i)$$\n",
    "\n",
    "This ordering makes it possible to compute a **configuration vector** $\\mathcal{C}$ that can be used to update the graph:\n",
    "\n",
    "$$\\mathcal{C}=\\begin{pmatrix} c(v_1) \\\\ \\vdots \\\\ c(v_o) \\end{pmatrix}=(d+1)\\times\\mathcal{S}+\\mathcal{A}\\cdot\\mathcal{S}$$\n",
    "\n",
    "Every d-regular rule must specify, for each configuration, whether the vertex will be alive or dead at $t+1$ and whether it will have undergone a division, leading to 4 possible final states. Thus, there are $4^{2(d+1)}$ possible rules. Each rule can be described by two functions:\n",
    "\n",
    "$$\n",
    "\\begin{aligned}\n",
    "& R: [[0,7]]\\rightarrow\\{0,\\, 1\\} \\\\  \n",
    "& R(c(v_t))=s(v_{t+1}) \n",
    "\\end{aligned}$$\n",
    "$$\\begin{aligned}\n",
    "& R': [[0,7]]\\rightarrow\\{0,\\, 1\\} \\\\  \n",
    "& R'(c(v_t))=\\begin{cases}\\begin{array}{ll}\n",
    "        1, & \\text{if c leads to a division at t+1}\\\\\n",
    "        0, & \\text{otherwise}\n",
    "        \\end{array}\\end{cases}\n",
    "\\end{aligned}$$\n",
    "\n",
    "Every d-regular  rule can thus be labeled by a unique **rule number** $n$.\n",
    "\n",
    "$$n=\\sum_{i=0}^7 \\left[ 2^i R(i) +  2^{i+2(d+1)} R'(i) \\right]$$\n",
    "\n",
    "This labeling system, inspired by the Wolfram code {cite}`wolfram2002new`, is such that a rule number in its binary form displays the behavior of the rule. Starting from the right, the $2(d+1)$ first digits indicate the future state for each configuration as they have been ordered previously. The $2(d+1)$ following digits show when a division occurs.\n"
   ]
  }
 ],
 "metadata": {
  "kernelspec": {
   "display_name": "Python 3.9.7 ('.venv': venv)",
   "language": "python",
   "name": "python3"
  },
  "language_info": {
   "codemirror_mode": {
    "name": "ipython",
    "version": 3
   },
   "file_extension": ".py",
   "mimetype": "text/x-python",
   "name": "python",
   "nbconvert_exporter": "python",
   "pygments_lexer": "ipython3",
   "version": "3.9.7"
  },
  "orig_nbformat": 4,
  "vscode": {
   "interpreter": {
    "hash": "4f024cd9f5c57439f3e6fa4daaabb10a816e87e26ad1ca77f07bda2365c16d62"
   }
  }
 },
 "nbformat": 4,
 "nbformat_minor": 2
}
