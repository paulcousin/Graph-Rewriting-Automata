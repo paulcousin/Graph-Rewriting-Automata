{
 "cells": [
  {
   "cell_type": "markdown",
   "metadata": {},
   "source": [
    "# Graph-Rewriting Automata\n",
    "---"
   ]
  },
  {
   "cell_type": "markdown",
   "metadata": {},
   "source": [
    "### Import required packages"
   ]
  },
  {
   "cell_type": "code",
   "execution_count": 1,
   "metadata": {},
   "outputs": [
    {
     "name": "stderr",
     "output_type": "stream",
     "text": [
      "2022-09-16 13:27:19.352087: I tensorflow/core/platform/cpu_feature_guard.cc:193] This TensorFlow binary is optimized with oneAPI Deep Neural Network Library (oneDNN) to use the following CPU instructions in performance-critical operations:  AVX2 AVX512F AVX512_VNNI FMA\n",
      "To enable them in other operations, rebuild TensorFlow with the appropriate compiler flags.\n"
     ]
    }
   ],
   "source": [
    "import numpy as np\n",
    "import tensorflow as tf"
   ]
  },
  {
   "cell_type": "markdown",
   "metadata": {},
   "source": [
    "### Class definition"
   ]
  },
  {
   "cell_type": "code",
   "execution_count": 363,
   "metadata": {},
   "outputs": [],
   "source": [
    "class Graph:\n",
    "    \"\"\"\n",
    "    The Graph class can be instantiated with an adjacency matrix and a state vector.\n",
    "    \"\"\"\n",
    "\n",
    "    def __init__(self, adjacency_matrix, state_vector):\n",
    "        self.adjacency_matrix = tf.sparse.from_dense(adjacency_matrix)\n",
    "        self.state_vector = tf.constant(state_vector, dtype=tf.int32)\n",
    "\n",
    "    def evolve(self, rule):\n",
    "        # computes the configuration vector\n",
    "        configurations = tf.sparse.sparse_dense_matmul(self.adjacency_matrix, self.state_vector).numpy().transpose().squeeze() + 4*self.state_vector.numpy().transpose().squeeze()\n",
    "\n",
    "        # creates a list with the 16 first binary digits of the rule number\n",
    "        rule = [int(d) for d in np.binary_repr(rule)]\n",
    "        rule.reverse()\n",
    "        for i in range(len(rule), 16): rule.append(0)\n",
    "\n",
    "        # computes an updated state vector and a division vector\n",
    "        new_state_vector = [rule[c] for c in configurations]\n",
    "        division_vector =  [rule[c+8] for c in configurations]\n",
    "\n",
    "        # self.state_vector = new_state_vector\n",
    "\n",
    "        while 1 in division_vector:\n",
    "            i = division_vector.index(1)\n",
    "            dim = len(division_vector)\n",
    "\n",
    "            # updates the state vector\n",
    "            new_state_vector.insert(i, new_state_vector[i])\n",
    "            new_state_vector.insert(i, new_state_vector[i])\n",
    "\n",
    "            # updates the division vector\n",
    "            division_vector[i]=0\n",
    "            division_vector.insert(i, 0)\n",
    "            division_vector.insert(i, 0)\n",
    "\n",
    "            # updates the adjacency matrix\n",
    "            self.adjacency_matrix = tf.sparse.concat(0,\n",
    "                [\n",
    "                    tf.sparse.slice(self.adjacency_matrix, [0,0], [i,dim]),\n",
    "                    tf.SparseTensor(indices=[(tf.sparse.slice(self.adjacency_matrix, [i,0], [1,dim]).indices)[0]], values=[1], dense_shape=[1,dim]),\n",
    "                    tf.SparseTensor(indices=[(tf.sparse.slice(self.adjacency_matrix, [i,0], [1,dim]).indices)[1]], values=[1], dense_shape=[1,dim]),\n",
    "                    tf.SparseTensor(indices=[(tf.sparse.slice(self.adjacency_matrix, [i,0], [1,dim]).indices)[2]], values=[1], dense_shape=[1,dim]),\n",
    "                    tf.sparse.slice(self.adjacency_matrix, [i+1,0], [dim-i-1,dim])\n",
    "                ]\n",
    "            )\n",
    "            self.adjacency_matrix = tf.sparse.concat(1,\n",
    "                [\n",
    "                    tf.sparse.slice(self.adjacency_matrix, [0,0], [dim+2,i]),\n",
    "                    tf.SparseTensor(indices=[(tf.sparse.slice(self.adjacency_matrix, [0,i], [dim+2,1]).indices)[0]], values=[1], dense_shape=[dim+2,1]),\n",
    "                    tf.SparseTensor(indices=[(tf.sparse.slice(self.adjacency_matrix, [0,i], [dim+2,1]).indices)[1]], values=[1], dense_shape=[dim+2,1]),\n",
    "                    tf.SparseTensor(indices=[(tf.sparse.slice(self.adjacency_matrix, [0,i], [dim+2,1]).indices)[2]], values=[1], dense_shape=[dim+2,1]),\n",
    "                    tf.sparse.slice(self.adjacency_matrix, [0,i+1], [dim+2,dim-i-1])\n",
    "                ]\n",
    "            )\n",
    "\n",
    "            # adding the junction submatrix\n",
    "            self.adjacency_matrix = tf.sparse.add(self.adjacency_matrix, tf.SparseTensor(indices=[[0+i,1+i],[0+i,2+i],[1+i,0+i],[1+i,2+i],[2+i,0+i],[2+i,1+i]], values=[1,1,1,1,1,1], dense_shape=[dim+2, dim+2]))\n",
    "        \n",
    "        # updates the state vector\n",
    "        self.state_vector = tf.convert_to_tensor(np.array([new_state_vector]).T)"
   ]
  },
  {
   "cell_type": "code",
   "execution_count": 364,
   "metadata": {},
   "outputs": [
    {
     "name": "stdout",
     "output_type": "stream",
     "text": [
      "Adjacency Matrix\n",
      " [[0 1 1 1]\n",
      " [1 0 1 1]\n",
      " [1 1 0 1]\n",
      " [1 1 1 0]]\n",
      "State Vector\n",
      " [[1]\n",
      " [0]\n",
      " [0]\n",
      " [1]]\n",
      "Adjacency Matrix\n",
      " [[0 1 0 0 1 0 0 1]\n",
      " [1 0 1 1 0 0 0 0]\n",
      " [0 1 0 1 0 1 0 0]\n",
      " [0 1 1 0 0 0 0 1]\n",
      " [1 0 0 0 0 1 1 0]\n",
      " [0 0 1 0 1 0 1 0]\n",
      " [0 0 0 0 1 1 0 1]\n",
      " [1 0 0 1 0 0 1 0]]\n",
      "State Vector\n",
      " [[1]\n",
      " [1]\n",
      " [1]\n",
      " [1]\n",
      " [1]\n",
      " [1]\n",
      " [1]\n",
      " [1]]\n"
     ]
    }
   ],
   "source": [
    "test = Graph([[0,1,1,1],[1,0,1,1],[1,1,0,1],[1,1,1,0]],[[1],[0],[0],[1]])\n",
    "\n",
    "print(\"Adjacency Matrix\\n\", tf.sparse.to_dense(test.adjacency_matrix).numpy())\n",
    "print(\"State Vector\\n\", test.state_vector.numpy())\n",
    "\n",
    "test.evolve(1279)\n",
    "\n",
    "print(\"Adjacency Matrix\\n\", tf.sparse.to_dense(test.adjacency_matrix).numpy())\n",
    "print(\"State Vector\\n\", test.state_vector.numpy())"
   ]
  }
 ],
 "metadata": {
  "kernelspec": {
   "display_name": "Python 3.9.7 ('base')",
   "language": "python",
   "name": "python3"
  },
  "language_info": {
   "codemirror_mode": {
    "name": "ipython",
    "version": 3
   },
   "file_extension": ".py",
   "mimetype": "text/x-python",
   "name": "python",
   "nbconvert_exporter": "python",
   "pygments_lexer": "ipython3",
   "version": "3.9.7"
  },
  "orig_nbformat": 4,
  "vscode": {
   "interpreter": {
    "hash": "596e55485385e271691331bfb22cd6df4257e88f882f085c8e38f47f61d1edee"
   }
  }
 },
 "nbformat": 4,
 "nbformat_minor": 2
}
