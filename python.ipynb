{
 "cells": [
  {
   "cell_type": "markdown",
   "metadata": {},
   "source": [
    "# Graph-Rewriting Automata\n",
    "---"
   ]
  },
  {
   "cell_type": "markdown",
   "metadata": {},
   "source": [
    "### Required packages"
   ]
  },
  {
   "cell_type": "code",
   "execution_count": 47,
   "metadata": {},
   "outputs": [],
   "source": [
    "import numpy as np\n",
    "import tensorflow as tf\n",
    "import matplotlib.pyplot as plt"
   ]
  },
  {
   "cell_type": "markdown",
   "metadata": {},
   "source": [
    "### Graph class"
   ]
  },
  {
   "cell_type": "code",
   "execution_count": 42,
   "metadata": {},
   "outputs": [],
   "source": [
    "class Graph:\n",
    "    \"\"\"\n",
    "    The Graph class can be instantiated with an adjacency matrix and a state vector.\n",
    "    \"\"\"\n",
    "\n",
    "    def __init__(self, adjacency_matrix, state_vector):\n",
    "        self.adjacency_matrix = tf.sparse.from_dense(tf.constant(adjacency_matrix, dtype=tf.int32))\n",
    "        self.state_vector = tf.constant(state_vector, dtype=tf.int32)\n",
    "\n",
    "    def to_mathematica(self):\n",
    "        aM = \"SparseArray[{\"+','.join([str(list(d))+\"->1\" for d in self.adjacency_matrix.indices.numpy()+1]).replace('[','{').replace(']','}')+\"},{\"+','.join([str(d) for d in self.adjacency_matrix.dense_shape.numpy()])+\"}]\"\n",
    "        sV = \"{\"+','.join([str(d) for d in self.state_vector.numpy()]).replace('[','{').replace(']','}')+\"}\"\n",
    "        return \"{\"+aM+\",\"+sV+\"}\"\n",
    "\n",
    "    def order(self):\n",
    "        return self.adjacency_matrix.dense_shape.numpy()[1]\n",
    "\n",
    "    def evolve(self, rule):\n",
    "        # computes the configuration vector\n",
    "        configurations = tf.sparse.sparse_dense_matmul(self.adjacency_matrix, self.state_vector).numpy().transpose().squeeze() + 4*self.state_vector.numpy().transpose().squeeze()\n",
    "\n",
    "        # creates a list with the 16 first binary digits of the rule number\n",
    "        rule = [int(d) for d in np.binary_repr(rule)]\n",
    "        rule.reverse()\n",
    "        for i in range(len(rule), 16): rule.append(0)\n",
    "\n",
    "        # computes an updated state vector and a division vector\n",
    "        new_state_vector = [rule[c] for c in configurations]\n",
    "        division_vector =  [rule[c+8] for c in configurations]\n",
    "\n",
    "        while 1 in division_vector:\n",
    "            i = division_vector.index(1)\n",
    "            dim = len(division_vector)\n",
    "\n",
    "            # updates the state vector\n",
    "            new_state_vector.insert(i, new_state_vector[i])\n",
    "            new_state_vector.insert(i, new_state_vector[i])\n",
    "\n",
    "            # updates the division vector\n",
    "            division_vector[i]=0\n",
    "            division_vector.insert(i, 0)\n",
    "            division_vector.insert(i, 0)\n",
    "\n",
    "            # updates the adjacency matrix\n",
    "            line = tf.sparse.slice(self.adjacency_matrix, [i,0], [1,dim]).indices\n",
    "            self.adjacency_matrix = tf.sparse.concat(0,\n",
    "                [\n",
    "                    tf.sparse.slice(self.adjacency_matrix, [0,0], [i,dim]),\n",
    "                    tf.SparseTensor(indices=[line[0]], values=[1], dense_shape=[1,dim]),\n",
    "                    tf.SparseTensor(indices=[line[1]], values=[1], dense_shape=[1,dim]),\n",
    "                    tf.SparseTensor(indices=[line[2]], values=[1], dense_shape=[1,dim]),\n",
    "                    tf.sparse.slice(self.adjacency_matrix, [i+1,0], [dim-i-1,dim])\n",
    "                ]\n",
    "            )\n",
    "            column = tf.sparse.slice(self.adjacency_matrix, [0,i], [dim+2,1]).indices\n",
    "            self.adjacency_matrix = tf.sparse.concat(1,\n",
    "                [\n",
    "                    tf.sparse.slice(self.adjacency_matrix, [0,0], [dim+2,i]),\n",
    "                    tf.SparseTensor(indices=[column[0]], values=[1], dense_shape=[dim+2,1]),\n",
    "                    tf.SparseTensor(indices=[column[1]], values=[1], dense_shape=[dim+2,1]),\n",
    "                    tf.SparseTensor(indices=[column[2]], values=[1], dense_shape=[dim+2,1]),\n",
    "                    tf.sparse.slice(self.adjacency_matrix, [0,i+1], [dim+2,dim-i-1])\n",
    "                ]\n",
    "            )\n",
    "            \n",
    "            # adding the junction submatrix\n",
    "            self.adjacency_matrix = tf.sparse.add(self.adjacency_matrix, tf.SparseTensor(indices=[[0+i,1+i],[0+i,2+i],[1+i,0+i],[1+i,2+i],[2+i,0+i],[2+i,1+i]], values=[1,1,1,1,1,1], dense_shape=[dim+2, dim+2]))\n",
    "\n",
    "        # updates the state vector\n",
    "        self.state_vector = tf.convert_to_tensor(np.array([new_state_vector]).T, dtype=tf.int32)\n",
    "\n",
    "    def jump(self, rule, n):\n",
    "        for i in range(n):\n",
    "            self.evolve(rule)"
   ]
  },
  {
   "cell_type": "markdown",
   "metadata": {},
   "source": [
    "### Example"
   ]
  },
  {
   "cell_type": "markdown",
   "metadata": {},
   "source": [
    "Un objet de la classe `Graph` peut être instancié avec une matrix d'adjacence et un vecteur d'état sous forme de listes imbriquées."
   ]
  },
  {
   "cell_type": "code",
   "execution_count": 58,
   "metadata": {},
   "outputs": [],
   "source": [
    "graph = Graph([ # adjacency matrix\n",
    "        [0, 1, 0, 0, 0, 0, 0, 0, 1, 1],\n",
    "        [1, 0, 1, 1, 0, 0, 0, 0, 0, 0],\n",
    "        [0, 1, 0, 1, 1, 0, 0, 0, 0, 0],\n",
    "        [0, 1, 1, 0, 0, 1, 0, 0, 0, 0],\n",
    "        [0, 0, 1, 0, 0, 1, 1, 0, 0, 0],\n",
    "        [0, 0, 0, 1, 1, 0, 0, 1, 0, 0],\n",
    "        [0, 0, 0, 0, 1, 0, 0, 1, 1, 0],\n",
    "        [0, 0, 0, 0, 0, 1, 1, 0, 0, 1],\n",
    "        [1, 0, 0, 0, 0, 0, 1, 0, 0, 1],\n",
    "        [1, 0, 0, 0, 0, 0, 0, 1, 1, 0]\n",
    "    ],[ # state vector\n",
    "        [1],\n",
    "        [0],\n",
    "        [0],\n",
    "        [0],\n",
    "        [0],\n",
    "        [1],\n",
    "        [1],\n",
    "        [0],\n",
    "        [1],\n",
    "        [1]\n",
    "    ])"
   ]
  },
  {
   "cell_type": "markdown",
   "metadata": {},
   "source": [
    "L'objet possède deux attributs :\n",
    "* `adjacency_matrix` ( une instance de la classe tf.sparse.SparseTensor )\n",
    "* `state_vector` ( une instance de la classe tf.Tensor )\n",
    "\n",
    "Ainsi que quatre méthodes :\n",
    "* `order()` qui retourne l'ordre du graph\n",
    "* `evolve(rule_number)` qui retourne le graph à t+1 selon la règle spécifiée\n",
    "* `jump(rule_number, number_of_steps)` qui retourne le graph à t+number_of_steps selon la règle spécifiée\n",
    "* `to_mathematica()` qui retourne une chaîne de charactères correspondant à une version du graph compatible avec Mathematica"
   ]
  },
  {
   "cell_type": "code",
   "execution_count": 66,
   "metadata": {},
   "outputs": [
    {
     "data": {
      "image/png": "[encoded data removed]",
      "text/plain": [
       "<Figure size 432x288 with 1 Axes>"
      ]
     },
     "metadata": {
      "needs_background": "light"
     },
     "output_type": "display_data"
    }
   ],
   "source": [
    "rule_number = 2222\n",
    "time_max = 100\n",
    "\n",
    "# initialize the list that will hold the succesive graph orders with the first value\n",
    "growth = [graph.order()]\n",
    "\n",
    "# loop that evolves the graph then adds the new graph order to the list\n",
    "for i in range(time_max):\n",
    "    graph.evolve(rule_number)\n",
    "    growth.append(graph.order())\n",
    "\n",
    "# growth plot\n",
    "plt.plot(growth)\n",
    "plt.title('Growth of rule number ' + str(rule_number))\n",
    "plt.xlabel('time')\n",
    "plt.ylabel('graph order')\n",
    "plt.show()"
   ]
  }
 ],
 "metadata": {
  "kernelspec": {
   "display_name": "Python 3.9.7 ('base')",
   "language": "python",
   "name": "python3"
  },
  "language_info": {
   "codemirror_mode": {
    "name": "ipython",
    "version": 3
   },
   "file_extension": ".py",
   "mimetype": "text/x-python",
   "name": "python",
   "nbconvert_exporter": "python",
   "pygments_lexer": "ipython3",
   "version": "3.9.7"
  },
  "orig_nbformat": 4,
  "vscode": {
   "interpreter": {
    "hash": "596e55485385e271691331bfb22cd6df4257e88f882f085c8e38f47f61d1edee"
   }
  }
 },
 "nbformat": 4,
 "nbformat_minor": 2
}
