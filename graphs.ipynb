{
 "cells": [
  {
   "cell_type": "markdown",
   "metadata": {},
   "source": [
    "# Graphs\n",
    "\n",
    "A **graph** $G$ of order $o$ will be fully described by a square **adjacency matrix** $\\mathcal{A}\\in\\mathbb{M}_{o\\times o}(\\mathbb{R})$ and a **state vector** $\\mathcal{S}\\in\\mathbb{R}^{o}$.\n",
    "\n",
    "$$G = \\{\\mathcal{A}, \\mathcal{S}\\}$$\n",
    "\n",
    "The **adjacency matrix** contains the weights $w(e_{i,j})$ of the edges (from the vertex $v_i$ to $v_j$ in this case). The particular case of $w(e_{i,j})=0$ indicates that their is no edge going from $v_i$ to $v_j$.\n",
    "\n",
    "$$\\mathcal{A}_{i,j}=w(e_{i,j})$$\n",
    "\n",
    "The **state vector** contains the states $s(v_i)$ of the vertices $v_i$.\n",
    "\n",
    "$$\\mathcal{S}_i=s(v_i)$$\n",
    "\n",
    "The **neighborhood** $N(v)$ of a **vertex** $v$ is the set of vertices which are adjacent to it. Thanks to the linear algebra description of graphs, there is a simple way to obtain a vector containing the weighted sum of the states present in the neighborhood of every vertex of a graph.\n",
    "\n",
    "$$\\begin{pmatrix} \\sum \\limits _{v_i\\in N(v_1)} w(e_{1,i})\\times s(v_i) \\\\ \\vdots \\\\ \\sum \\limits _{v_i\\in N(v_o)} w(e_{o,i})\\times s(v_i) \\end{pmatrix}=\\begin{pmatrix} \\sum \\limits _{i=1}^o w(e_{1,i})\\times s(v_i) \\\\ \\vdots \\\\ \\sum \\limits _{i=1}^o w(e_{o,i})\\times s(v_i) \\end{pmatrix}=\\mathcal{A}\\cdot\\mathcal{S}$$\n",
    "\n",
    "We can also define the **n-th neighborhood** $N_n(v)$ of a vertex as the set of vertices which are at a distance $n$ of $v$."
   ]
  }
 ],
 "metadata": {
  "kernelspec": {
   "display_name": "Python 3.9.7 ('.venv': venv)",
   "language": "python",
   "name": "python3"
  },
  "language_info": {
   "codemirror_mode": {
    "name": "ipython",
    "version": 3
   },
   "file_extension": ".py",
   "mimetype": "text/x-python",
   "name": "python",
   "nbconvert_exporter": "python",
   "pygments_lexer": "ipython3",
   "version": "3.9.7"
  },
  "orig_nbformat": 4,
  "vscode": {
   "interpreter": {
    "hash": "4f024cd9f5c57439f3e6fa4daaabb10a816e87e26ad1ca77f07bda2365c16d62"
   }
  }
 },
 "nbformat": 4,
 "nbformat_minor": 2
}
