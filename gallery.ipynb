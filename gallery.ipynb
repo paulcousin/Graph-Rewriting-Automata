{
 "cells": [
  {
   "cell_type": "markdown",
   "metadata": {},
   "source": [
    "# Gallery\n",
    "\n",
    "This is a gallery of interesting looking graphs otained with GRA rules and plotted in Mathematica.\n",
    "\n",
    "**4-Regular Rule n° 16474**\n",
    "![4-regular_16474](gallery/4-regular_16474.svg)"
   ]
  },
  {
   "cell_type": "markdown",
   "metadata": {},
   "source": []
  }
 ],
 "metadata": {
  "kernelspec": {
   "display_name": "Python 3.9.7 ('.venv': venv)",
   "language": "python",
   "name": "python3"
  },
  "language_info": {
   "name": "python",
   "version": "3.9.7"
  },
  "orig_nbformat": 4,
  "vscode": {
   "interpreter": {
    "hash": "4f024cd9f5c57439f3e6fa4daaabb10a816e87e26ad1ca77f07bda2365c16d62"
   }
  }
 },
 "nbformat": 4,
 "nbformat_minor": 2
}
