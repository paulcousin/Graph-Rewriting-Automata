{
 "cells": [
  {
   "cell_type": "markdown",
   "metadata": {},
   "source": [
    "# Implementation\n",
    "The `Graph` class has the atributes:\n",
    "* `adjacency_matrix` ( an instance of the SparseTensor class of TensorFlow )\n",
    "* `state_vector` ( an instance of the Tensor class of TensorFlow )\n",
    "\n",
    "And the methods:\n",
    "* `.plot()`: plots the graph\n",
    "* `.evolve(rule)`: evolves the graph according the `rule`\n",
    "* `.order()`: returns the order of the graph\n",
    "* `.clone()`: returns a copy of the graph\n",
    "* `.igraph()`: returns an igraph Graph object \n",
    "* `.mathematica()`: returns a string corresponding to a Mathematica compatible version of the graph\n",
    "\n",
    "It can be instantiated with:\n",
    "* an adjacency matrix that can be either a python nested array or a tensorflow sparse tensor.\n",
    "* a state vector that can eiher be a python nested array or a tensorflow tensor.\n",
    "\n",
    "## Examples\n",
    "The following piece of code displays a simple graph with 4 vertices with binary states:\n",
    "* s(v)=1, called 'alive' and colored <span style=\"color:purple\">*purple*</span>,\n",
    "* s(v)=0, called 'dead' and colored <span style=\"color:orange\">*orange*</span>."
   ]
  },
  {
   "cell_type": "code",
   "execution_count": 1,
   "metadata": {},
   "outputs": [
    {
     "data": {
      "image/svg+xml": "<?xml version=\"1.0\" encoding=\"UTF-8\"?>\n<svg xmlns=\"http://www.w3.org/2000/svg\" xmlns:xlink=\"http://www.w3.org/1999/xlink\" width=\"40pt\" height=\"40pt\" viewBox=\"0 0 40 40\" version=\"1.1\">\n<g id=\"surface2\">\n<rect x=\"0\" y=\"0\" width=\"40\" height=\"40\" style=\"fill:rgb(100%,100%,100%);fill-opacity:1;stroke:none;\"/>\n<path style=\"fill:none;stroke-width:1;stroke-linecap:butt;stroke-linejoin:miter;stroke:rgb(26.666667%,26.666667%,26.666667%);stroke-opacity:1;stroke-miterlimit:10;\" d=\"M 30 24.464844 L 15.535156 30 \"/>\n<path style=\"fill:none;stroke-width:1;stroke-linecap:butt;stroke-linejoin:miter;stroke:rgb(26.666667%,26.666667%,26.666667%);stroke-opacity:1;stroke-miterlimit:10;\" d=\"M 30 24.464844 L 10 15.535156 \"/>\n<path style=\"fill:none;stroke-width:1;stroke-linecap:butt;stroke-linejoin:miter;stroke:rgb(26.666667%,26.666667%,26.666667%);stroke-opacity:1;stroke-miterlimit:10;\" d=\"M 30 24.464844 L 24.464844 10 \"/>\n<path style=\"fill:none;stroke-width:1;stroke-linecap:butt;stroke-linejoin:miter;stroke:rgb(26.666667%,26.666667%,26.666667%);stroke-opacity:1;stroke-miterlimit:10;\" d=\"M 15.535156 30 L 10 15.535156 \"/>\n<path style=\"fill:none;stroke-width:1;stroke-linecap:butt;stroke-linejoin:miter;stroke:rgb(26.666667%,26.666667%,26.666667%);stroke-opacity:1;stroke-miterlimit:10;\" d=\"M 15.535156 30 L 24.464844 10 \"/>\n<path style=\"fill:none;stroke-width:1;stroke-linecap:butt;stroke-linejoin:miter;stroke:rgb(26.666667%,26.666667%,26.666667%);stroke-opacity:1;stroke-miterlimit:10;\" d=\"M 10 15.535156 L 24.464844 10 \"/>\n<path style=\"fill-rule:nonzero;fill:rgb(62.745098%,12.54902%,94.117647%);fill-opacity:1;stroke-width:1;stroke-linecap:butt;stroke-linejoin:miter;stroke:rgb(0%,0%,0%);stroke-opacity:1;stroke-miterlimit:10;\" d=\"M 32 24.464844 C 32 27.132812 28 27.132812 28 24.464844 C 28 21.796875 32 21.796875 32 24.464844 \"/>\n<path style=\"fill-rule:nonzero;fill:rgb(100%,64.705882%,0%);fill-opacity:1;stroke-width:1;stroke-linecap:butt;stroke-linejoin:miter;stroke:rgb(0%,0%,0%);stroke-opacity:1;stroke-miterlimit:10;\" d=\"M 17.535156 30 C 17.535156 32.667969 13.535156 32.667969 13.535156 30 C 13.535156 27.332031 17.535156 27.332031 17.535156 30 \"/>\n<path style=\"fill-rule:nonzero;fill:rgb(100%,64.705882%,0%);fill-opacity:1;stroke-width:1;stroke-linecap:butt;stroke-linejoin:miter;stroke:rgb(0%,0%,0%);stroke-opacity:1;stroke-miterlimit:10;\" d=\"M 12 15.535156 C 12 18.203125 8 18.203125 8 15.535156 C 8 12.867188 12 12.867188 12 15.535156 \"/>\n<path style=\"fill-rule:nonzero;fill:rgb(100%,64.705882%,0%);fill-opacity:1;stroke-width:1;stroke-linecap:butt;stroke-linejoin:miter;stroke:rgb(0%,0%,0%);stroke-opacity:1;stroke-miterlimit:10;\" d=\"M 26.464844 10 C 26.464844 12.667969 22.464844 12.667969 22.464844 10 C 22.464844 7.332031 26.464844 7.332031 26.464844 10 \"/>\n</g>\n</svg>\n",
      "text/plain": [
       "<igraph.drawing.cairo.plot.CairoPlot at 0x7fcd89ae9070>"
      ]
     },
     "execution_count": 1,
     "metadata": {
      "image/svg+xml": {
       "isolated": true
      }
     },
     "output_type": "execute_result"
    }
   ],
   "source": [
    "import gra\n",
    "\n",
    "graph = gra.Graph([ # adjacency matrix\n",
    "        [0, 1, 1, 1],\n",
    "        [1, 0, 1, 1],\n",
    "        [1, 1, 0, 1],\n",
    "        [1, 1, 1, 0] \n",
    "    ],[ # state vector\n",
    "        [1],\n",
    "        [0],\n",
    "        [0],\n",
    "        [0] \n",
    "    ])\n",
    "\n",
    "graph.plot()"
   ]
  },
  {
   "cell_type": "markdown",
   "metadata": {},
   "source": [
    "Graphs with a different ordering of vertices are equivalent. This equivalence can be checked with `==`."
   ]
  },
  {
   "cell_type": "code",
   "execution_count": 2,
   "metadata": {},
   "outputs": [
    {
     "data": {
      "text/plain": [
       "True"
      ]
     },
     "execution_count": 2,
     "metadata": {},
     "output_type": "execute_result"
    }
   ],
   "source": [
    "graph == gra.Graph([ # adjacency matrix\n",
    "        [0, 1, 1, 1],\n",
    "        [1, 0, 1, 1],\n",
    "        [1, 1, 0, 1],\n",
    "        [1, 1, 1, 0] \n",
    "    ],[ # state vector\n",
    "        [0],\n",
    "        [0],\n",
    "        [1],\n",
    "        [0] \n",
    "    ])\n",
    "\n"
   ]
  }
 ],
 "metadata": {
  "kernelspec": {
   "display_name": "Python 3.9.7 ('.venv': venv)",
   "language": "python",
   "name": "python3"
  },
  "language_info": {
   "codemirror_mode": {
    "name": "ipython",
    "version": 3
   },
   "file_extension": ".py",
   "mimetype": "text/x-python",
   "name": "python",
   "nbconvert_exporter": "python",
   "pygments_lexer": "ipython3",
   "version": "3.9.7"
  },
  "orig_nbformat": 4,
  "vscode": {
   "interpreter": {
    "hash": "4f024cd9f5c57439f3e6fa4daaabb10a816e87e26ad1ca77f07bda2365c16d62"
   }
  }
 },
 "nbformat": 4,
 "nbformat_minor": 2
}
