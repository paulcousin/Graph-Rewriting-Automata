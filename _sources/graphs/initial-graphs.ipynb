{
 "cells": [
  {
   "cell_type": "markdown",
   "metadata": {},
   "source": [
    "# Initial graphs"
   ]
  }
 ],
 "metadata": {
  "kernelspec": {
   "display_name": "Python 3.9.7 ('.venv': venv)",
   "language": "python",
   "name": "python3"
  },
  "language_info": {
   "name": "python",
   "version": "3.9.7"
  },
  "orig_nbformat": 4,
  "vscode": {
   "interpreter": {
    "hash": "4f024cd9f5c57439f3e6fa4daaabb10a816e87e26ad1ca77f07bda2365c16d62"
   }
  }
 },
 "nbformat": 4,
 "nbformat_minor": 2
}
