{
 "cells": [
  {
   "cell_type": "markdown",
   "metadata": {},
   "source": [
    "# Gallery\n",
    "\n",
    "This is a gallery of interesting looking graphs otained with GRA rules and plotted in Mathematica.\n",
    "\n",
    "## 3-Regular\n",
    "\n",
    "````{figure} ./gallery/3g1_r2238_t120.svg\n",
    "Rule n° 2238 on <img src=\"./gallery/3g1.svg\" width=\"50px\">  at t=120\n",
    "````\n",
    "\n",
    "````{figure} ./gallery/3g2_r549_t26.svg\n",
    "Rule n° 549 on <img src=\"./gallery/3g2.svg\" width=\"50px\">  at t=26\n",
    "````\n",
    "\n",
    "````{figure} ./gallery/3g2_r2182_t400.svg\n",
    "Rule n° 2182 on <img src=\"./gallery/3g2.svg\" width=\"50px\">  at t=400\n",
    "````\n",
    "\n",
    "````{figure} ./gallery/3g2_r2199_t175.svg\n",
    "Rule n° 2199 on <img src=\"./gallery/3g2.svg\" width=\"50px\">  at t=175\n",
    "````\n",
    "\n",
    "## 4-Regular\n",
    "\n",
    "````{figure} ./gallery/4g0_r16474_t100.svg\n",
    "Rule n° 16474 on <img src=\"./gallery/4g0.svg\" width=\"50px\">  at t=100\n",
    "````"
   ]
  },
  {
   "cell_type": "markdown",
   "metadata": {},
   "source": []
  }
 ],
 "metadata": {
  "kernelspec": {
   "display_name": "Python 3.9.7 ('.venv': venv)",
   "language": "python",
   "name": "python3"
  },
  "language_info": {
   "name": "python",
   "version": "3.9.7"
  },
  "orig_nbformat": 4,
  "vscode": {
   "interpreter": {
    "hash": "4f024cd9f5c57439f3e6fa4daaabb10a816e87e26ad1ca77f07bda2365c16d62"
   }
  }
 },
 "nbformat": 4,
 "nbformat_minor": 2
}
