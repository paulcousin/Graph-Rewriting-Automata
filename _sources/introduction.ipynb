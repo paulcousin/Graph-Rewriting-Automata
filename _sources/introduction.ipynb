{
 "cells": [
  {
   "cell_type": "markdown",
   "metadata": {},
   "source": [
    "# Introduction\n",
    "\n",
    "This document is an introduction to **Graph-Rewriting Automata** and the [**GRA** python package](https://github.com/paulcousin/gra-python). \n",
    "\n",
    "GRA are an extension of **Cellular Automata** to a dynamic structure using local graph-rewriting rules. In this framework, initially simple graphs can evolve into complex self-organized structures. GRA display complex behaviors and can thus constitute a useful model of natural phenomena.\n",
    "\n",
    "```{note}\n",
    "The concepts presented here are in the continuity of a previous work {cite}`cousin2022organic` that was implemented in [Mathematica](https://www.wolfram.com/mathematica/). This code can be found in a dedicated [GitHub repository](https://github.com/paulcousin/gra-mathematica). However, the new python implementation leverages [TensorFlow](https://www.tensorflow.org) for GPU accelerated computations and has more functionality.\n",
    "```\n",
    "\n",
    "A **Graph-Rewriting Automaton** consists of:\n",
    "* an **initial graph** $G_0$ defined at time step $t=0$,\n",
    "* a **rule** to iteratively evolve it to any discrete time step $t>0$.\n",
    "\n",
    "$G_t$ is the graph obtained at time $t$.\n",
    "\n",
    "![example](images/gra-example.png)\n",
    "\n",
    "In the following, a linear algebra based approach to GRA will be presented along with code examples.\n",
    "\n",
    "````{important}\n",
    "You can install the GRA package on your machine using the following command.\n",
    "```{code}\n",
    "python -m pip install gra\n",
    "```\n",
    "````"
   ]
  }
 ],
 "metadata": {
  "kernelspec": {
   "display_name": "Python 3.10.6 64-bit",
   "language": "python",
   "name": "python3"
  },
  "language_info": {
   "name": "python",
   "version": "3.10.6"
  },
  "orig_nbformat": 4,
  "vscode": {
   "interpreter": {
    "hash": "aee8b7b246df8f9039afb4144a1f6fd8d2ca17a180786b69acc140d282b71a49"
   }
  }
 },
 "nbformat": 4,
 "nbformat_minor": 2
}
