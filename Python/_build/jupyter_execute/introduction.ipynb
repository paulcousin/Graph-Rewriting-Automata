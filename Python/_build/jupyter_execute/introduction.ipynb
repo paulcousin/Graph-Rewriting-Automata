{
 "cells": [
  {
   "cell_type": "markdown",
   "metadata": {},
   "source": [
    "# Introduction\n",
    "\n",
    "This document is an introduction to Graph-Rewriting Automata and the GRA library.\n",
    "\n",
    "## General concept\n",
    "\n",
    "A **Graph-Rewriting Automaton** consists of:\n",
    "* an **initial graph** $G_0$ defined at time step $t=0$,\n",
    "* a **rule** to iteratively evolve it to any discrete time step $t>0$.\n",
    "\n",
    "$G_t$ is the graph obtained at time $t$."
   ]
  }
 ],
 "metadata": {
  "kernelspec": {
   "display_name": "Python 3.10.6 64-bit",
   "language": "python",
   "name": "python3"
  },
  "language_info": {
   "codemirror_mode": {
    "name": "ipython",
    "version": 3
   },
   "file_extension": ".py",
   "mimetype": "text/x-python",
   "name": "python",
   "nbconvert_exporter": "python",
   "pygments_lexer": "ipython3",
   "version": "3.9.7"
  },
  "vscode": {
   "interpreter": {
    "hash": "aee8b7b246df8f9039afb4144a1f6fd8d2ca17a180786b69acc140d282b71a49"
   }
  }
 },
 "nbformat": 4,
 "nbformat_minor": 2
}