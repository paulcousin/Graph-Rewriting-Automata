{
 "cells": [
  {
   "cell_type": "markdown",
   "metadata": {},
   "source": [
    "# Graph-Rewriting Automata\n",
    "\n",
    "A **Graph-Rewriting Automaton** consists of:\n",
    "* an **initial graph** $G_0$ defined at time step $t=0$,\n",
    "* a **rule** to iteratively evolve it to any discrete time step $t>0$.\n",
    "\n",
    "$G_t$ is the graph obtained at time $t$."
   ]
  }
 ],
 "metadata": {
  "kernelspec": {
   "display_name": "Python 3.10.6 64-bit",
   "language": "python",
   "name": "python3"
  },
  "language_info": {
   "name": "python",
   "version": "3.10.6"
  },
  "orig_nbformat": 4,
  "vscode": {
   "interpreter": {
    "hash": "aee8b7b246df8f9039afb4144a1f6fd8d2ca17a180786b69acc140d282b71a49"
   }
  }
 },
 "nbformat": 4,
 "nbformat_minor": 2
}
