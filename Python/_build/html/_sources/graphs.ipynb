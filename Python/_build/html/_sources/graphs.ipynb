{
 "cells": [
  {
   "cell_type": "markdown",
   "metadata": {},
   "source": [
    "# Graphs\n",
    "\n",
    "## Theory\n",
    "\n",
    "A **graph** $G$ of order $o$ will be fully described by a square **adjacency matrix** $\\mathcal{A}\\in\\mathbb{M}_{o\\times o}(\\mathbb{K})$ and a **state vector** $\\mathcal{S}\\in\\mathbb{K}^{o}$.\n",
    "\n",
    "$$G = \\{\\mathcal{A}, \\mathcal{S}\\}$$\n",
    "\n",
    "The **adjacency matrix** contains the weights $w(e_{i,j})$ of the edges (from $v_i$ to $v_j$ in this case). The particular case of $w(e_{i,j})=0$ indicates that their is no edge going from $v_i$ to $v_j$.\n",
    "\n",
    "$$\\mathcal{A}_{i,j}=w(e_{i,j})$$\n",
    "\n",
    "The **state vector** contains the states $s(v_i)$ of the vertices $v_i$.\n",
    "\n",
    "$$\\mathcal{S}_i=s(v_i)$$\n",
    "\n",
    "The **neighborhood** $N(v)$ of a **vertex** $v$ is the set of vertices which are adjacent to it. Thanks to the linear algebra description of graphs, there is a simple way to obtain a vector containing the weighted sum of the states present in the neighborhood of every vertex of a graph.\n",
    "\n",
    "$$\\begin{pmatrix} \\sum \\limits _{v_i\\in N(v_1)} w(e_{1,i})\\times s(v_i) \\\\ \\vdots \\\\ \\sum \\limits _{v_i\\in N(v_o)} w(e_{o,i})\\times s(v_i) \\end{pmatrix}=\\begin{pmatrix} \\sum \\limits _{i=1}^o w(e_{1,i})\\times s(v_i) \\\\ \\vdots \\\\ \\sum \\limits _{i=1}^o w(e_{o,i})\\times s(v_i) \\end{pmatrix}=\\mathcal{A}\\cdot\\mathcal{S}$$\n",
    "\n",
    "We can also define the **n-th neighborhood** $N_n(v)$ of a vertex as the set of vertices which are at a distance $n$ of $v$.\n",
    "\n",
    "## Implementation\n",
    "The `Graph` class has the atributes:\n",
    "* `adjacency_matrix` ( an instance of the SparseTensor class of TensorFlow )\n",
    "* `state_vector` ( an instance of the Tensor class of TensorFlow )\n",
    "\n",
    "And the methods:\n",
    "* `.plot()`: plots the graph\n",
    "* `.evolve(rule)`: evolves the graph according the `rule`\n",
    "* `.order()`: returns the order of the graph\n",
    "* `.clone()`: returns a copy of the graph\n",
    "* `.isomorphic(other_graph)`: returns `True` if there exists an isomorphism including states between the graph and `other_graph`\n",
    "* `.igraph()`: returns an igraph Graph object \n",
    "* `.mathematica()`: returns a string corresponding to a Mathematica compatible version of the graph\n",
    "\n",
    "It can be instantiated with:\n",
    "* an adjacency matrix that can be either a python nested array or a tensorflow sparse tensor.\n",
    "* a state vector that can eiher be a python nested array or a tensorflow tensor.\n",
    "\n",
    "## Example\n",
    "The following piece of code displays a simple graph with 4 vertices with binary states:\n",
    "* s(v)=1, called 'alive' and colored <span style=\"color:purple\">*purple*</span>,\n",
    "* s(v)=0, called 'dead' and colored <span style=\"color:orange\">*orange*</span>."
   ]
  },
  {
   "cell_type": "code",
   "execution_count": 1,
   "metadata": {},
   "outputs": [
    {
     "data": {
      "image/svg+xml": "<?xml version=\"1.0\" encoding=\"UTF-8\"?>\n<svg xmlns=\"http://www.w3.org/2000/svg\" xmlns:xlink=\"http://www.w3.org/1999/xlink\" width=\"40pt\" height=\"40pt\" viewBox=\"0 0 40 40\" version=\"1.1\">\n<g id=\"surface2\">\n<rect x=\"0\" y=\"0\" width=\"40\" height=\"40\" style=\"fill:rgb(100%,100%,100%);fill-opacity:1;stroke:none;\"/>\n<path style=\"fill:none;stroke-width:1;stroke-linecap:butt;stroke-linejoin:miter;stroke:rgb(26.666667%,26.666667%,26.666667%);stroke-opacity:1;stroke-miterlimit:10;\" d=\"M 30 24.464844 L 15.535156 30 \"/>\n<path style=\"fill:none;stroke-width:1;stroke-linecap:butt;stroke-linejoin:miter;stroke:rgb(26.666667%,26.666667%,26.666667%);stroke-opacity:1;stroke-miterlimit:10;\" d=\"M 30 24.464844 L 10 15.535156 \"/>\n<path style=\"fill:none;stroke-width:1;stroke-linecap:butt;stroke-linejoin:miter;stroke:rgb(26.666667%,26.666667%,26.666667%);stroke-opacity:1;stroke-miterlimit:10;\" d=\"M 30 24.464844 L 24.464844 10 \"/>\n<path style=\"fill:none;stroke-width:1;stroke-linecap:butt;stroke-linejoin:miter;stroke:rgb(26.666667%,26.666667%,26.666667%);stroke-opacity:1;stroke-miterlimit:10;\" d=\"M 15.535156 30 L 10 15.535156 \"/>\n<path style=\"fill:none;stroke-width:1;stroke-linecap:butt;stroke-linejoin:miter;stroke:rgb(26.666667%,26.666667%,26.666667%);stroke-opacity:1;stroke-miterlimit:10;\" d=\"M 15.535156 30 L 24.464844 10 \"/>\n<path style=\"fill:none;stroke-width:1;stroke-linecap:butt;stroke-linejoin:miter;stroke:rgb(26.666667%,26.666667%,26.666667%);stroke-opacity:1;stroke-miterlimit:10;\" d=\"M 10 15.535156 L 24.464844 10 \"/>\n<path style=\"fill-rule:nonzero;fill:rgb(62.745098%,12.54902%,94.117647%);fill-opacity:1;stroke-width:1;stroke-linecap:butt;stroke-linejoin:miter;stroke:rgb(0%,0%,0%);stroke-opacity:1;stroke-miterlimit:10;\" d=\"M 32 24.464844 C 32 27.132812 28 27.132812 28 24.464844 C 28 21.796875 32 21.796875 32 24.464844 \"/>\n<path style=\"fill-rule:nonzero;fill:rgb(100%,64.705882%,0%);fill-opacity:1;stroke-width:1;stroke-linecap:butt;stroke-linejoin:miter;stroke:rgb(0%,0%,0%);stroke-opacity:1;stroke-miterlimit:10;\" d=\"M 17.535156 30 C 17.535156 32.667969 13.535156 32.667969 13.535156 30 C 13.535156 27.332031 17.535156 27.332031 17.535156 30 \"/>\n<path style=\"fill-rule:nonzero;fill:rgb(100%,64.705882%,0%);fill-opacity:1;stroke-width:1;stroke-linecap:butt;stroke-linejoin:miter;stroke:rgb(0%,0%,0%);stroke-opacity:1;stroke-miterlimit:10;\" d=\"M 12 15.535156 C 12 18.203125 8 18.203125 8 15.535156 C 8 12.867188 12 12.867188 12 15.535156 \"/>\n<path style=\"fill-rule:nonzero;fill:rgb(100%,64.705882%,0%);fill-opacity:1;stroke-width:1;stroke-linecap:butt;stroke-linejoin:miter;stroke:rgb(0%,0%,0%);stroke-opacity:1;stroke-miterlimit:10;\" d=\"M 26.464844 10 C 26.464844 12.667969 22.464844 12.667969 22.464844 10 C 22.464844 7.332031 26.464844 7.332031 26.464844 10 \"/>\n</g>\n</svg>\n",
      "text/plain": [
       "<igraph.drawing.cairo.plot.CairoPlot at 0x7f7f8bd30eb0>"
      ]
     },
     "execution_count": 1,
     "metadata": {
      "image/svg+xml": {
       "isolated": true
      }
     },
     "output_type": "execute_result"
    }
   ],
   "source": [
    "import gra\n",
    "\n",
    "graph1 = gra.Graph([ # adjacency matrix\n",
    "        [0, 1, 1, 1],\n",
    "        [1, 0, 1, 1],\n",
    "        [1, 1, 0, 1],\n",
    "        [1, 1, 1, 0] \n",
    "    ],[ # state vector\n",
    "        [1],\n",
    "        [0],\n",
    "        [0],\n",
    "        [0] \n",
    "    ])\n",
    "\n",
    "graph1.plot()"
   ]
  },
  {
   "cell_type": "markdown",
   "metadata": {},
   "source": [
    "We can check if this graph is isomorphic to another that we choose to only differ by the position of the living vertex."
   ]
  },
  {
   "cell_type": "code",
   "execution_count": 8,
   "metadata": {},
   "outputs": [
    {
     "data": {
      "text/plain": [
       "True"
      ]
     },
     "execution_count": 8,
     "metadata": {},
     "output_type": "execute_result"
    }
   ],
   "source": [
    "graph1.isomorphic(\n",
    "    gra.Graph([ # adjacency matrix\n",
    "        [0, 1, 1, 1],\n",
    "        [1, 0, 1, 1],\n",
    "        [1, 1, 0, 1],\n",
    "        [1, 1, 1, 0] \n",
    "    ],[ # state vector\n",
    "        [0],\n",
    "        [0],\n",
    "        [1],\n",
    "        [0] \n",
    "    ]))\n",
    "\n"
   ]
  }
 ],
 "metadata": {
  "kernelspec": {
   "display_name": "Python 3.9.7 ('base')",
   "language": "python",
   "name": "python3"
  },
  "language_info": {
   "codemirror_mode": {
    "name": "ipython",
    "version": 3
   },
   "file_extension": ".py",
   "mimetype": "text/x-python",
   "name": "python",
   "nbconvert_exporter": "python",
   "pygments_lexer": "ipython3",
   "version": "3.9.7"
  },
  "orig_nbformat": 4,
  "vscode": {
   "interpreter": {
    "hash": "596e55485385e271691331bfb22cd6df4257e88f882f085c8e38f47f61d1edee"
   }
  }
 },
 "nbformat": 4,
 "nbformat_minor": 2
}
